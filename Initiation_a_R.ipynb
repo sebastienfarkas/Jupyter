{
  "nbformat": 4,
  "nbformat_minor": 0,
  "metadata": {
    "kernelspec": {
      "display_name": "R",
      "language": "R",
      "name": "ir"
    },
    "language_info": {
      "codemirror_mode": "r",
      "file_extension": ".r",
      "mimetype": "text/x-r-source",
      "name": "R",
      "pygments_lexer": "r",
      "version": "3.6.3"
    },
    "colab": {
      "name": "Initiation_a_R.ipynb",
      "provenance": [],
      "toc_visible": true
    }
  },
  "cells": [
    {
      "cell_type": "markdown",
      "metadata": {
        "id": "1URNnkz3e-mv",
        "colab_type": "text"
      },
      "source": [
        "# ISUP CS1 L3 : TP de modélisation stochastique - séance 1\n",
        "\n",
        "## Professeur: Olivier Wintenberger, chargé de TP: Sébastien Farkas\n",
        "\n",
        "### Initiation à R\n",
        "\n",
        "Ce notebook a pour objet de vous faire travailler sur les fondamentaux du langage R qui sont nécessaires pour la réalisation des 3 TP et du projet du cours. \n",
        "\n",
        "Plus précisément, les compétences qui devront être maitrisées suite à cette séance d'initiation sont :\n",
        "\n",
        "1) de savoir assigner un objet à une variable,\n",
        "\n",
        "2) de savoir créer une fonction, un vecteur, une liste, une matrice et un data.frame,\n",
        "\n",
        "3) de savoir utiliser les opérateurs élémentaires sous R, réaliser un test et une boucle,\n",
        "\n",
        "4) de savoir réaliser des graphiques basiques.\n",
        "\n",
        "Par la suite, une séance d'initiation à l'interface utilisateur graphique de R GUI (https://cran.r-project.org/) et à l'environnement de développement R Studio IDE (https://rstudio.com/products/rstudio/) vous permettra de finaliser les prérequis aux TP et au projet : \n",
        "\n",
        "5) connaître l'interface de R GUI et R Studio,\n",
        "\n",
        "7) savoir utiliser l'aide de R, \n",
        "\n",
        "8) savoir utiliser un package R, \n",
        "\n",
        "9) créer un projet R\n",
        "\n",
        "\n",
        "Vous pourrez poser toutes vos questions durant les séances de question/réponse."
      ]
    },
    {
      "cell_type": "markdown",
      "metadata": {
        "id": "-hPsRhTWe-mx",
        "colab_type": "text"
      },
      "source": [
        "#### 1) Assignation d'un objet à une variable\n",
        "\n",
        "Deux opérateurs  permettent d'assigner un objet à une variable : \"=\" et \"<-\". Nous vous conseillons d'éviter les caractères spéciaux dans la définition du nom d'une variable et d'utiliser plutôt des caractères alphanumériques et éventuellement \"_\".\n",
        "\n",
        "Dans le langage R, l'assignation d'un objet à une variable peut se faire même si la variable n'existe pas encore. Le type de cette variable est choisi automatiquement par R.\n",
        "\n",
        "##### Exemple\n",
        "\n",
        "Assigner à la variable \"ma_premiere_variable\" le chiffre 2"
      ]
    },
    {
      "cell_type": "code",
      "metadata": {
        "id": "TAFj9Ikoe-my",
        "colab_type": "code",
        "colab": {}
      },
      "source": [
        "ma_premiere_variable=2\n",
        "print(ma_premiere_variable)\n",
        "print(paste(\"Nous avons assigné\",ma_premiere_variable,\"à la variable ma_premiere_variable\"))"
      ],
      "execution_count": 0,
      "outputs": []
    },
    {
      "cell_type": "code",
      "metadata": {
        "id": "tuFgNUiRe-m3",
        "colab_type": "code",
        "colab": {}
      },
      "source": [
        "ma_premiere_variable<-2\n",
        "print(paste(\"Nous avons assigné\",ma_premiere_variable,\"à la variable ma_premiere_variable\"))"
      ],
      "execution_count": 0,
      "outputs": []
    },
    {
      "cell_type": "markdown",
      "metadata": {
        "id": "dSAHHdpVe-m6",
        "colab_type": "text"
      },
      "source": [
        "##### Remarque\n",
        "La fonction \"print\" permet d'afficher sur la console une chaîne de caractère.\n",
        "\n",
        "La fonction \"paste\" permet de concaténer des chaînes de caractères et des valeurs de variables en les espaçant d'un espace (la fonction paste0 permet de concaténer sans espaces)."
      ]
    },
    {
      "cell_type": "markdown",
      "metadata": {
        "id": "qIiTcB6Pe-m7",
        "colab_type": "text"
      },
      "source": [
        "#### 2) Création d'un vecteur, d'une liste, d'une matrice, d'un data.frame et d'une fonction\n",
        "\n",
        "Plusieurs types d'objet existent sous R. Nous en présentons ici un sous-ensemble qui offre de grandes possibilités et qui suffisent pour les TP et le projet. La fonction \"class\", appliquée à une variable, permet d'obtenir le type de la variable passée en argument."
      ]
    },
    {
      "cell_type": "code",
      "metadata": {
        "id": "DgvR2hYAe-m8",
        "colab_type": "code",
        "colab": {}
      },
      "source": [
        "class(ma_premiere_variable)"
      ],
      "execution_count": 0,
      "outputs": []
    },
    {
      "cell_type": "markdown",
      "metadata": {
        "id": "8lZ85qIhe-m_",
        "colab_type": "text"
      },
      "source": [
        "###### a) Un vecteur est une succession d'élément simple de même nature. \n",
        "\n",
        "Il se crée en utilisant la fonction \"c\", dont chaque élément doit être séparé par une virgule, comme pour toutes les fonctions sous R.\n",
        "\n",
        "Si la nature des éléments diffère, R homogénéisera automatiquement la nature des éléments du vecteur, en prenant la plus large possible.\n",
        "\n",
        "##### Exemple\n",
        "\n",
        "Créer un vecteur appelé \"un_vecteur_de_chiffres\" constitué, dans l'ordre, des éléments suivant : 1;2;3;4;5.\n",
        "\n",
        "\n",
        "\n"
      ]
    },
    {
      "cell_type": "code",
      "metadata": {
        "id": "FW4YD0gxe-nA",
        "colab_type": "code",
        "colab": {
          "base_uri": "https://localhost:8080/",
          "height": 51
        },
        "outputId": "6c6143be-e67b-4aab-fba3-e8e26283916e"
      },
      "source": [
        "un_vecteur_de_chiffres=c(1,2,3,4,5)\n",
        "#Plus directement, on aurait pu faire un_vecteur_de_chiffres=1:5\n",
        "print(un_vecteur_de_chiffres)\n",
        "print(paste(\"Le type du vecteur un_vecteur_de_chiffres est\",class(un_vecteur_de_chiffres)))"
      ],
      "execution_count": 1,
      "outputs": [
        {
          "output_type": "stream",
          "text": [
            "[1] 1 2 3 4 5\n",
            "[1] \"Le type du vecteur un_vecteur_de_chiffres est numeric\"\n"
          ],
          "name": "stdout"
        }
      ]
    },
    {
      "cell_type": "markdown",
      "metadata": {
        "id": "8fHYhN1Se-nD",
        "colab_type": "text"
      },
      "source": [
        "Créer un vecteur appelé \"un_vecteur_de_nombres\" constitué, dans l'ordre, des éléments suivant : 1,2;3,4;4.5;6,7;8,9."
      ]
    },
    {
      "cell_type": "code",
      "metadata": {
        "id": "CJpe6HZLe-nE",
        "colab_type": "code",
        "colab": {}
      },
      "source": [
        "un_vecteur_de_nombres=c(1.1,3.4,4.5,6.7,8.9)\n",
        "print(un_vecteur_de_nombres)\n",
        "print(paste(\"Le type du vecteur un_vecteur_de_nombres est\",class(un_vecteur_de_nombres)))"
      ],
      "execution_count": 0,
      "outputs": []
    },
    {
      "cell_type": "markdown",
      "metadata": {
        "id": "JsYWnCZ-e-nH",
        "colab_type": "text"
      },
      "source": [
        "Créer un vecteur appelé \"un_vecteur_de_lettres\" constitué, dans l'ordre, des éléments suivant : a;b;c;d;e.\n"
      ]
    },
    {
      "cell_type": "code",
      "metadata": {
        "id": "02w4V9-6e-nI",
        "colab_type": "code",
        "colab": {}
      },
      "source": [
        "un_vecteur_de_lettres=c(\"a\",\"b\",\"c\",\"d\",\"e\")\n",
        "print(un_vecteur_de_lettres)\n",
        "print(paste(\"Le type du vecteur un_vecteur_de_lettres est\",class(un_vecteur_de_lettres)))"
      ],
      "execution_count": 0,
      "outputs": []
    },
    {
      "cell_type": "markdown",
      "metadata": {
        "id": "LWhfHiUGe-nK",
        "colab_type": "text"
      },
      "source": [
        "Créer un vecteur appelé \"un_vecteur_de_mots\" constitué, dans l'ordre, des éléments suivant : actuaire;data scientist.\n"
      ]
    },
    {
      "cell_type": "code",
      "metadata": {
        "id": "_Pq46spAe-nL",
        "colab_type": "code",
        "colab": {}
      },
      "source": [
        "un_vecteur_de_mots=c(\"statistique\",\"langage\")\n",
        "print(un_vecteur_de_mots)\n",
        "print(paste(\"Le type du vecteur un_vecteur_de_mots est\",class(un_vecteur_de_mots)))"
      ],
      "execution_count": 0,
      "outputs": []
    },
    {
      "cell_type": "markdown",
      "metadata": {
        "id": "Nq1fSv-ae-nO",
        "colab_type": "text"
      },
      "source": [
        "Créer un vecteur appelé \"un_vecteur_mixte\" constitué, dans l'ordre, des éléments du vecteur un_vecteur_de_chiffres puis de ceux du vecteur un_vecteur_de_nombres."
      ]
    },
    {
      "cell_type": "code",
      "metadata": {
        "id": "oJx7vfM1e-nP",
        "colab_type": "code",
        "colab": {}
      },
      "source": [
        "un_vecteur_mixte=c(un_vecteur_de_chiffres,un_vecteur_de_lettres)\n",
        "print(un_vecteur_mixte)\n",
        "print(paste(\"Le type du vecteur un_vecteur_mixte est\",class(un_vecteur_mixte)))"
      ],
      "execution_count": 0,
      "outputs": []
    },
    {
      "cell_type": "markdown",
      "metadata": {
        "id": "kvXN_jAie-nS",
        "colab_type": "text"
      },
      "source": [
        "\n",
        "Créer un vecteur appelé \"un_autre_vecteur_de_chiffres\" constitué, dans l'ordre, des 3 premiers éléments du vecteur un_vecteur_de_chiffres."
      ]
    },
    {
      "cell_type": "code",
      "metadata": {
        "id": "CFFGIbRTe-nS",
        "colab_type": "code",
        "colab": {}
      },
      "source": [
        "un_autre_vecteur_de_chiffres=un_vecteur_de_chiffres[1:3]\n",
        "print(un_autre_vecteur_de_chiffres)\n",
        "print(paste(\"Le type du vecteur un_autre_vecteur_de_chiffres est\",class(un_autre_vecteur_de_chiffres)))"
      ],
      "execution_count": 0,
      "outputs": []
    },
    {
      "cell_type": "markdown",
      "metadata": {
        "id": "NHQIJdqPe-nV",
        "colab_type": "text"
      },
      "source": [
        "###### b) Une matrice ou un data.frame est un tableau d'éléments simples.\n",
        "\n",
        "##### Remarque\n",
        "\n",
        "Une matrice se crée en utilisant la fonction \"matrix\", qui prend en argument un vecteur contenant l'ensemble de ses éléments, le nombre de lignes, le nombre de colonnes, et un booléen informant sur la manière de remplir la matrice. Par défaut, le remplissage se fait par ligne de gauche à droite. Les éléments d'une matrice, puisque renseignés dans un même vecteur, sont tous du même type.\n",
        "\n",
        "Créer une matrice dont les colonnes sont les vecteurs un_vecteur_de_chiffres et un_vecteur_de_nombres."
      ]
    },
    {
      "cell_type": "code",
      "metadata": {
        "id": "5QpVMXhoe-nW",
        "colab_type": "code",
        "colab": {}
      },
      "source": [
        "ma_premiere_matrice=matrix(data = c(un_vecteur_de_chiffres,un_vecteur_de_nombres),nrow = 5,ncol = 2,byrow = FALSE)\n",
        "print(ma_premiere_matrice)\n",
        "class(ma_premiere_matrice)"
      ],
      "execution_count": 0,
      "outputs": []
    },
    {
      "cell_type": "markdown",
      "metadata": {
        "id": "I4L3EchQe-nY",
        "colab_type": "text"
      },
      "source": [
        "Créer une matrice dont les lignes sont les vecteurs un_vecteur_de_chiffres et un_vecteur_de_lettres."
      ]
    },
    {
      "cell_type": "code",
      "metadata": {
        "id": "KC1RPYcFe-nZ",
        "colab_type": "code",
        "colab": {}
      },
      "source": [
        "ma_seconde_matrice=matrix(data = c(un_vecteur_de_chiffres,un_vecteur_de_lettres),nrow = 5,ncol = 2,byrow = FALSE)\n",
        "print(ma_seconde_matrice)"
      ],
      "execution_count": 0,
      "outputs": []
    },
    {
      "cell_type": "markdown",
      "metadata": {
        "id": "Pobz3gmXe-nc",
        "colab_type": "text"
      },
      "source": [
        "Afficher l'élément (1,2) de cette dernière matrice."
      ]
    },
    {
      "cell_type": "code",
      "metadata": {
        "id": "w1FmnY5We-nd",
        "colab_type": "code",
        "colab": {}
      },
      "source": [
        "print(ma_seconde_matrice[1,2])"
      ],
      "execution_count": 0,
      "outputs": []
    },
    {
      "cell_type": "markdown",
      "metadata": {
        "id": "XYJ87NBie-ng",
        "colab_type": "text"
      },
      "source": [
        "Afficher les deux premières lignes de cette matrice.\n",
        "\n",
        "---\n",
        "\n"
      ]
    },
    {
      "cell_type": "code",
      "metadata": {
        "id": "-18nzDYOe-nh",
        "colab_type": "code",
        "colab": {}
      },
      "source": [
        "print(ma_seconde_matrice[c(1,2),])"
      ],
      "execution_count": 0,
      "outputs": []
    },
    {
      "cell_type": "markdown",
      "metadata": {
        "id": "rxtiIMGee-nj",
        "colab_type": "text"
      },
      "source": [
        "##### Remarque\n",
        "\n",
        "Un data.frame se crée un utilisant la fonction \"data.frame\", qui prend en argument la suite des colonnes en précisant pour chacune le nom de la colonne. Les éléments d'un data.frame ne sont pas forcément du même type. Par contre ils le sont au sein d'une même colonne.\n",
        "\n",
        "Créer un data frame dont les colonnes s'appellent chiffres et lettres et dont les valeurs sont respectivement celles des vecteurs un_vecteur_de_chiffres et un_vecteur_de_lettres."
      ]
    },
    {
      "cell_type": "code",
      "metadata": {
        "id": "apixYwdoe-nk",
        "colab_type": "code",
        "colab": {}
      },
      "source": [
        "options(stringsAsFactors = FALSE)\n",
        "ma_premiere_data_frame=data.frame(chiffres=un_vecteur_de_chiffres,lettres=un_vecteur_de_lettres)\n",
        "print(ma_premiere_data_frame)\n",
        "class(ma_premiere_data_frame)"
      ],
      "execution_count": 0,
      "outputs": []
    },
    {
      "cell_type": "markdown",
      "metadata": {
        "id": "FT-MwH9ke-nm",
        "colab_type": "text"
      },
      "source": [
        "Afficher la première colonne de ce data.frame."
      ]
    },
    {
      "cell_type": "code",
      "metadata": {
        "id": "xjl9oxB2e-nm",
        "colab_type": "code",
        "colab": {}
      },
      "source": [
        "print(ma_premiere_data_frame$chiffres)\n",
        "#Ou bien ma_premiere_data_frame[,1]\n",
        "class(ma_premiere_data_frame$chiffres)"
      ],
      "execution_count": 0,
      "outputs": []
    },
    {
      "cell_type": "markdown",
      "metadata": {
        "id": "mg10o_Rxe-np",
        "colab_type": "text"
      },
      "source": [
        "Afficher la seconde colonne de ce data.frame."
      ]
    },
    {
      "cell_type": "code",
      "metadata": {
        "id": "mE0PkkLRe-nq",
        "colab_type": "code",
        "colab": {}
      },
      "source": [
        "print(ma_premiere_data_frame$lettres)\n",
        "#Ou bien ma_premiere_data_frame[,2]\n",
        "class(ma_premiere_data_frame$lettres)"
      ],
      "execution_count": 0,
      "outputs": []
    },
    {
      "cell_type": "markdown",
      "metadata": {
        "id": "PgslTltBe-ns",
        "colab_type": "text"
      },
      "source": [
        "###### c) Une liste est une succession d'éléments. \n",
        "\n",
        "Elle se crée en utilisant la fonction \"list\", qui prend en arguments la suite des éléments, en précisant ou non leurs noms.\n",
        "\n",
        "Créer une liste constituée de la variable ma_premiere_variable, du vecteur un_vecteur_de_chiffres, et de la matrice ma_premiere_matrice."
      ]
    },
    {
      "cell_type": "code",
      "metadata": {
        "id": "bgC7Niwbe-nt",
        "colab_type": "code",
        "colab": {}
      },
      "source": [
        "ma_premiere_liste=list(ma_premiere_variable,un_vecteur_de_chiffres,ma_premiere_matrice)\n",
        "print(ma_premiere_liste)"
      ],
      "execution_count": 0,
      "outputs": []
    },
    {
      "cell_type": "markdown",
      "metadata": {
        "id": "7jeOyD49e-nv",
        "colab_type": "text"
      },
      "source": [
        "Attribuer à la variable ma_premiere_matrice le troisième élément de la liste et l'afficher."
      ]
    },
    {
      "cell_type": "code",
      "metadata": {
        "id": "h_rkYbzae-nw",
        "colab_type": "code",
        "colab": {}
      },
      "source": [
        "ma_premiere_matrice=ma_premiere_liste[[3]]\n",
        "print(ma_premiere_matrice)\n",
        "class(ma_premiere_matrice)"
      ],
      "execution_count": 0,
      "outputs": []
    },
    {
      "cell_type": "markdown",
      "metadata": {
        "id": "N42j7qOGe-ny",
        "colab_type": "text"
      },
      "source": [
        "Créer une liste ma_liste_extraite contenant le premier et le troisième élément de ma_premiere_liste et l'afficher."
      ]
    },
    {
      "cell_type": "code",
      "metadata": {
        "id": "bk-m-cHRe-ny",
        "colab_type": "code",
        "colab": {}
      },
      "source": [
        "ma_liste_extraite=ma_premiere_liste[c(1,3)]\n",
        "print(ma_liste_extraite)\n",
        "class(ma_liste_extraite)"
      ],
      "execution_count": 0,
      "outputs": []
    },
    {
      "cell_type": "markdown",
      "metadata": {
        "id": "ZixD0d7Re-n1",
        "colab_type": "text"
      },
      "source": [
        "Créer une liste un_autre_liste_extraite contenant le troisième élément de ma_premiere_liste et l'afficher."
      ]
    },
    {
      "cell_type": "code",
      "metadata": {
        "id": "tlq4h5a9e-n1",
        "colab_type": "code",
        "colab": {}
      },
      "source": [
        "un_autre_liste_extraite=ma_premiere_liste[3]\n",
        "print(un_autre_liste_extraite)\n",
        "class(un_autre_liste_extraite)"
      ],
      "execution_count": 0,
      "outputs": []
    },
    {
      "cell_type": "markdown",
      "metadata": {
        "id": "sSzhHp0ze-n3",
        "colab_type": "text"
      },
      "source": [
        "###### d) Une fonction\n",
        "\n",
        "Une fonction se crée en utilisant la fonction \"function\", suivi des arguments de la fonction entre parenthèses \"(\";\")\", suivi du traitement de la fonction entre accolades \"{\";\"}\". Si la fonction a une sortie, la sortie doit être renseignée au moyen de la typologie \"return(ma_sortie)\".\n",
        "\n",
        "##### Remarque\n",
        "\n",
        "Le type de la sortie est libre mais la fonction return n'accepte qu'un seul argument. Si la sortie contient plusieurs éléments, il conviendra de les regrouper au sein d'un objet d'un type bien choisi.\n",
        "\n",
        "Des valeurs par défaut des arguments de la fonction peuvent être renseignés en suivant le schéma suivant : \"mon_argument=la_valeur_par_défaut_de_mon_argument\".\n",
        "\n",
        "Créer une fonction appellé hello_world qui salut l'utilisateur en lui rappelant la date et l'heure du jour."
      ]
    },
    {
      "cell_type": "code",
      "metadata": {
        "id": "Kk2EilpDe-n4",
        "colab_type": "code",
        "colab": {}
      },
      "source": [
        "hello_world=function(prenom=\"Anne\",nom=\"Onime\"){\n",
        "    print(paste(\"Bonjour\",prenom,nom,\", nous sommes le \",Sys.Date(),\"et il est\",substr(x = Sys.time(),start = 12,stop =19))) \n",
        "    return()\n",
        "}\n",
        "\n",
        "hello_world\n",
        "class(hello_world)\n",
        "\n",
        "hello_world()\n",
        "class(hello_world())"
      ],
      "execution_count": 0,
      "outputs": []
    },
    {
      "cell_type": "markdown",
      "metadata": {
        "id": "xXdx1U1Je-n7",
        "colab_type": "text"
      },
      "source": [
        "Modifier la fonction en lui rajoutant une sortie qui est la chaîne de caractères idiquant l'heure, puis stocker le résultat dans une variable ma_premiere_sortie."
      ]
    },
    {
      "cell_type": "code",
      "metadata": {
        "id": "bPKwI_B0e-n7",
        "colab_type": "code",
        "colab": {}
      },
      "source": [
        "hello_world=function(prenom=\"Anne\",nom=\"Onime\"){\n",
        "    res=substr(x = Sys.time(),start = 12,stop =19)\n",
        "    print(paste(\"Bonjour\",prenom,nom,\", nous sommes le \",Sys.Date(),\"et il est\",res)) \n",
        "    return(res)\n",
        "}\n",
        "\n",
        "ma_premiere_sortie=hello_world()\n",
        "class(ma_premiere_sortie)"
      ],
      "execution_count": 0,
      "outputs": []
    },
    {
      "cell_type": "markdown",
      "metadata": {
        "id": "XVw_YWRDe-oA",
        "colab_type": "text"
      },
      "source": [
        "#### 3) Utilisation des opérateurs élémentaires, d'un test et d'une boucle\n",
        "\n",
        "###### a) Les opérateurs élémentaires\n",
        "\n",
        "Les opérateurs élémentaires sont les suivant :\n",
        "\n",
        "Addition : \"+\"\n",
        "\n",
        "Soustraction : \"-\"\n",
        "\n",
        "Multiplication : \"*\"\n",
        "\n",
        "Division : \"/\"\n",
        "\n",
        "Puissance : \"^\" ou \"**\"\n",
        "\n",
        "Modulo : \"%%\"\n",
        "\n",
        "Partie entière de la division : \"%/%\"\n",
        "\n",
        "Multiplication matricielle : \"%*%\"\n",
        "\n",
        "Strictement inférieur/supérieur : \"<\"/\">\"\n",
        "\n",
        "Inférieur/supérieur : \"<=\"/\">=\"\n",
        "\n",
        "Égal : \"==\"\n",
        "\n",
        "Différent : \"!=\"\n",
        "\n",
        "Et : \"&\"\n",
        "\n",
        "Ou : \"|\" (raccourci clavier Mac : Alt + Maj + L ; raccourci clavier Windows :  Alt Gr + 6)\n",
        "\n",
        "##### Remarque\n",
        "\n",
        "Ces opérateurs peuvent être utilisés sur des éléments simples mais aussi des vecteurs, des matrices, des data.frame, des listes. Il seront alors appliqués terme à terme.\n",
        "\n",
        "##### Exemple"
      ]
    },
    {
      "cell_type": "code",
      "metadata": {
        "id": "hKiRSDhRe-oA",
        "colab_type": "code",
        "colab": {}
      },
      "source": [
        "un_vecteur_de_chiffres[1]<un_vecteur_de_nombres[1]"
      ],
      "execution_count": 0,
      "outputs": []
    },
    {
      "cell_type": "code",
      "metadata": {
        "id": "XYJPKKuke-oD",
        "colab_type": "code",
        "colab": {}
      },
      "source": [
        "un_vecteur_de_chiffres<un_vecteur_de_nombres"
      ],
      "execution_count": 0,
      "outputs": []
    },
    {
      "cell_type": "code",
      "metadata": {
        "id": "d0HPcMRZe-oG",
        "colab_type": "code",
        "colab": {}
      },
      "source": [
        "length(un_vecteur_de_lettres)<length(un_vecteur_de_mots)"
      ],
      "execution_count": 0,
      "outputs": []
    },
    {
      "cell_type": "markdown",
      "metadata": {
        "id": "zHFMtZwye-oJ",
        "colab_type": "text"
      },
      "source": [
        "###### b) Les tests\n",
        "\n",
        "Tester une condition se fait avec la fonction \"if\" avec entre parenthèse un booleén qui est soit vrai soit faux (TRUE/FALSE), suivi par le traitement à faire dans le cas vrai entre accolades, puis par else et le traitement à faire dans le cas faux entre accolades.\n",
        "\n",
        "##### Exemple"
      ]
    },
    {
      "cell_type": "code",
      "metadata": {
        "id": "nrg2Sq7Ze-oJ",
        "colab_type": "code",
        "colab": {}
      },
      "source": [
        "if(un_vecteur_de_chiffres[1]<un_vecteur_de_nombres[1]){\n",
        "    print(\"Le premier élément du vecteur un_vecteur_de_chiffres est strictement inférieur au premier élément du vecteur un_vecteur_de_nombres\")\n",
        "}else{\n",
        "    print(\"Le premier élément du vecteur un_vecteur_de_chiffres est strictement inférieur au premier élément du vecteur un_vecteur_de_nombres\")\n",
        "}"
      ],
      "execution_count": 0,
      "outputs": []
    },
    {
      "cell_type": "markdown",
      "metadata": {
        "id": "__ydNwjYe-oL",
        "colab_type": "text"
      },
      "source": [
        "###### c) Les boucles\n",
        "\n",
        "Deux méthodes permettent de réaliser une boucle :\n",
        "\n",
        "1) En utilisant \"for (ma_variable in les_valeurs_a_parcourir)\" suivi entre accolades du traitement.\n",
        "\n",
        "2) En initialisant ma_variable à une valeur de départ puis en utilisant \"while(une_condition)\", par exemple \"ma_variable <= mon_seuil_maximal\", suivi entre accolade du traitement qui fera évoluer la valeur de ma_variable, par exemple avec ma_variable=ma_variable+1\n",
        "\n",
        "##### Exemple\n",
        "\n",
        "Tester si les éléments du vecteur un_vecteur_de_chiffres, pris dans le désordre, sont inférieurs aux éléments du vecteur un_vecteur_de_nombres, et si oui, afficher la position initiale de l'élément du vecteur un_vecteur_de_chiffres."
      ]
    },
    {
      "cell_type": "code",
      "metadata": {
        "id": "f-oVDXZde-oM",
        "colab_type": "code",
        "colab": {}
      },
      "source": [
        "taille_vecteur=length(un_vecteur_de_chiffres)\n",
        "for(i in taille_vecteur:1){\n",
        "    chiffre_a_comparer=un_vecteur_de_chiffres[i]\n",
        "    nombre_a_comparer=un_vecteur_de_nombres[taille_vecteur-i+1]\n",
        "    if(chiffre_a_comparer<=nombre_a_comparer){\n",
        "        print(taille_vecteur-i+1)\n",
        "    }\n",
        "}"
      ],
      "execution_count": 0,
      "outputs": []
    },
    {
      "cell_type": "markdown",
      "metadata": {
        "id": "9PCR7Yz7e-oP",
        "colab_type": "text"
      },
      "source": [
        "#### 4) Réalisation de graphiques basiques\n",
        "\n",
        "La fonction \"plot\" permet de générer un graphique en deux dimensions.\n",
        "La fonction \"lines\" permet d'y ajouter une ligne.\n",
        "La fonction \"points\" permet d'y ajouter des points.\n",
        "\n",
        "La fonction \"hist\" permet de générer un histogramme.\n",
        "\n",
        "La fonction par(mfrox=c(nombre_de_lignes,nombre_de_colonnes)) permet de segmenter la sortie graphique en une matrice de graphiques qui seront affichés suite à l'utilisation succéssive de fonctiions permettant d'afficher un graphique.\n",
        "\n",
        "##### Exemple\n",
        "\n",
        "Créer une fenêtre contenant 2 graphiques sur la même ligne. Dans le premier graphique, représenter en abscisses le vecteur un_vecteur_de_chiffres et en ordonnée le vecteur un_vecteur_de_nombres. Supperposer une ligne de couleur rouge constituée des même éléments mais pris dans le désordre. Dans le deuxième graphique, représenter l'histogramme des valeurs du vecteur un_vecteur_de_chiffres. "
      ]
    },
    {
      "cell_type": "code",
      "metadata": {
        "id": "LPxM-CP_e-oQ",
        "colab_type": "code",
        "colab": {}
      },
      "source": [
        "par(mfrow=c(1,2))\n",
        "plot(x = un_vecteur_de_chiffres,\n",
        "     y = un_vecteur_de_nombres,\n",
        "     main=\"Mon premier graphique\",\n",
        "     xlab=\"Axe des abscisses\",\n",
        "    ylab=\"Axe des ordonnées\",\n",
        "    xlim=c(0,10),\n",
        "    ylim=c(0,10))\n",
        "lines(x=un_vecteur_de_chiffres[5:1],y = un_vecteur_de_nombres[5:1],col = \"red\")\n",
        "abline(v=1,col=\"purple\")\n",
        "abline(h=1,col=\"orange\")\n",
        "hist(x = un_vecteur_de_chiffres,\n",
        "    breaks=c(1,3,5),\n",
        "    main=\"Mon premier histogramme\",\n",
        "    xlim=c(0,6))"
      ],
      "execution_count": 0,
      "outputs": []
    },
    {
      "cell_type": "markdown",
      "metadata": {
        "id": "A0DqPnL6e-oS",
        "colab_type": "text"
      },
      "source": [
        "#### 5) BONUS : quelques pièges (merci d'alimenter cette section en partageant sur moodle ou via le script astuces.R vos petites erreurs aux grandes conséquences)... et peut être aussi des astuces !\n",
        "\n",
        "Un premier exemple."
      ]
    },
    {
      "cell_type": "code",
      "metadata": {
        "id": "16XefKn7e-oS",
        "colab_type": "code",
        "colab": {}
      },
      "source": [
        "n=10\n",
        "1:n+1"
      ],
      "execution_count": 0,
      "outputs": []
    },
    {
      "cell_type": "markdown",
      "metadata": {
        "id": "nmRRHv5Xo9fl",
        "colab_type": "text"
      },
      "source": [
        "L'indexation commence à 1, pas à 0."
      ]
    },
    {
      "cell_type": "code",
      "metadata": {
        "id": "EjEb21NXsQPp",
        "colab_type": "code",
        "colab": {}
      },
      "source": [
        "print(un_vecteur_de_chiffres)\n",
        "print(un_vecteur_de_chiffres[0])\n",
        "un_vecteur_de_chiffres[0]=100\n",
        "print(un_vecteur_de_chiffres[0])\n",
        "print(un_vecteur_de_chiffres)"
      ],
      "execution_count": 0,
      "outputs": []
    }
  ]
}